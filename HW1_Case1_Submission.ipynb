{
 "cells": [
  {
   "cell_type": "code",
   "execution_count": 1,
   "metadata": {
    "colab": {
     "base_uri": "https://localhost:8080/"
    },
    "executionInfo": {
     "elapsed": 2487,
     "status": "ok",
     "timestamp": 1663303014584,
     "user": {
      "displayName": "Xinhui Yu",
      "userId": "06403118375310528875"
     },
     "user_tz": 420
    },
    "id": "wLo_FZpdudas",
    "outputId": "cf7762b4-f165-4651-804a-9bcf7d16fe8d"
   },
   "outputs": [
    {
     "name": "stderr",
     "output_type": "stream",
     "text": [
      "/usr/local/lib/python3.7/dist-packages/ipykernel_launcher.py:3: FutureWarning: The pandas.datetime class is deprecated and will be removed from pandas in a future version. Import from datetime module instead.\n",
      "  This is separate from the ipykernel package so we can avoid doing imports until\n"
     ]
    }
   ],
   "source": [
    "import pandas as pd\n",
    "import matplotlib.pyplot as plt\n",
    "from pandas import datetime\n",
    "import numpy as np\n",
    "from datetime import date\n",
    "import datetime as dt\n",
    "from plotnine import *\n",
    "import matplotlib.pyplot as plt\n",
    "import scipy.stats as ss\n",
    "import statsmodels.api as sm\n",
    "import statsmodels.formula.api as smf"
   ]
  },
  {
   "cell_type": "code",
   "execution_count": null,
   "metadata": {
    "colab": {
     "base_uri": "https://localhost:8080/",
     "height": 206
    },
    "executionInfo": {
     "elapsed": 429,
     "status": "ok",
     "timestamp": 1663285115084,
     "user": {
      "displayName": "Betty Sun",
      "userId": "05203902986704234829"
     },
     "user_tz": 420
    },
    "id": "f_nlQ3CutmRR",
    "outputId": "e12bbfa0-62bd-4121-9c7b-300fc44bef9d"
   },
   "outputs": [
    {
     "data": {
      "text/html": [
       "\n",
       "  <div id=\"df-5fec7d4c-1aa8-409f-9a31-978199b552da\">\n",
       "    <div class=\"colab-df-container\">\n",
       "      <div>\n",
       "<style scoped>\n",
       "    .dataframe tbody tr th:only-of-type {\n",
       "        vertical-align: middle;\n",
       "    }\n",
       "\n",
       "    .dataframe tbody tr th {\n",
       "        vertical-align: top;\n",
       "    }\n",
       "\n",
       "    .dataframe thead th {\n",
       "        text-align: right;\n",
       "    }\n",
       "</style>\n",
       "<table border=\"1\" class=\"dataframe\">\n",
       "  <thead>\n",
       "    <tr style=\"text-align: right;\">\n",
       "      <th></th>\n",
       "      <th>Year,Date &amp; Time</th>\n",
       "      <th>DateTime</th>\n",
       "      <th>Year</th>\n",
       "      <th>January1</th>\n",
       "    </tr>\n",
       "  </thead>\n",
       "  <tbody>\n",
       "    <tr>\n",
       "      <th>0</th>\n",
       "      <td>1917,April 30 at 11:30 AM</td>\n",
       "      <td>1917-04-30 11:30:00</td>\n",
       "      <td>1917</td>\n",
       "      <td>1917-01-01</td>\n",
       "    </tr>\n",
       "    <tr>\n",
       "      <th>1</th>\n",
       "      <td>1918,May 11 at 9:33 AM</td>\n",
       "      <td>1918-05-11 09:33:00</td>\n",
       "      <td>1918</td>\n",
       "      <td>1918-01-01</td>\n",
       "    </tr>\n",
       "    <tr>\n",
       "      <th>2</th>\n",
       "      <td>1919,May 3 at 2:33 PM</td>\n",
       "      <td>1919-05-03 14:33:00</td>\n",
       "      <td>1919</td>\n",
       "      <td>1919-01-01</td>\n",
       "    </tr>\n",
       "    <tr>\n",
       "      <th>3</th>\n",
       "      <td>1920,May 11 at 10:46 AM</td>\n",
       "      <td>1920-05-11 10:46:00</td>\n",
       "      <td>1920</td>\n",
       "      <td>1920-01-01</td>\n",
       "    </tr>\n",
       "    <tr>\n",
       "      <th>4</th>\n",
       "      <td>1921,May 11 at 6:42 AM</td>\n",
       "      <td>1921-05-11 06:42:00</td>\n",
       "      <td>1921</td>\n",
       "      <td>1921-01-01</td>\n",
       "    </tr>\n",
       "  </tbody>\n",
       "</table>\n",
       "</div>\n",
       "      <button class=\"colab-df-convert\" onclick=\"convertToInteractive('df-5fec7d4c-1aa8-409f-9a31-978199b552da')\"\n",
       "              title=\"Convert this dataframe to an interactive table.\"\n",
       "              style=\"display:none;\">\n",
       "        \n",
       "  <svg xmlns=\"http://www.w3.org/2000/svg\" height=\"24px\"viewBox=\"0 0 24 24\"\n",
       "       width=\"24px\">\n",
       "    <path d=\"M0 0h24v24H0V0z\" fill=\"none\"/>\n",
       "    <path d=\"M18.56 5.44l.94 2.06.94-2.06 2.06-.94-2.06-.94-.94-2.06-.94 2.06-2.06.94zm-11 1L8.5 8.5l.94-2.06 2.06-.94-2.06-.94L8.5 2.5l-.94 2.06-2.06.94zm10 10l.94 2.06.94-2.06 2.06-.94-2.06-.94-.94-2.06-.94 2.06-2.06.94z\"/><path d=\"M17.41 7.96l-1.37-1.37c-.4-.4-.92-.59-1.43-.59-.52 0-1.04.2-1.43.59L10.3 9.45l-7.72 7.72c-.78.78-.78 2.05 0 2.83L4 21.41c.39.39.9.59 1.41.59.51 0 1.02-.2 1.41-.59l7.78-7.78 2.81-2.81c.8-.78.8-2.07 0-2.86zM5.41 20L4 18.59l7.72-7.72 1.47 1.35L5.41 20z\"/>\n",
       "  </svg>\n",
       "      </button>\n",
       "      \n",
       "  <style>\n",
       "    .colab-df-container {\n",
       "      display:flex;\n",
       "      flex-wrap:wrap;\n",
       "      gap: 12px;\n",
       "    }\n",
       "\n",
       "    .colab-df-convert {\n",
       "      background-color: #E8F0FE;\n",
       "      border: none;\n",
       "      border-radius: 50%;\n",
       "      cursor: pointer;\n",
       "      display: none;\n",
       "      fill: #1967D2;\n",
       "      height: 32px;\n",
       "      padding: 0 0 0 0;\n",
       "      width: 32px;\n",
       "    }\n",
       "\n",
       "    .colab-df-convert:hover {\n",
       "      background-color: #E2EBFA;\n",
       "      box-shadow: 0px 1px 2px rgba(60, 64, 67, 0.3), 0px 1px 3px 1px rgba(60, 64, 67, 0.15);\n",
       "      fill: #174EA6;\n",
       "    }\n",
       "\n",
       "    [theme=dark] .colab-df-convert {\n",
       "      background-color: #3B4455;\n",
       "      fill: #D2E3FC;\n",
       "    }\n",
       "\n",
       "    [theme=dark] .colab-df-convert:hover {\n",
       "      background-color: #434B5C;\n",
       "      box-shadow: 0px 1px 3px 1px rgba(0, 0, 0, 0.15);\n",
       "      filter: drop-shadow(0px 1px 2px rgba(0, 0, 0, 0.3));\n",
       "      fill: #FFFFFF;\n",
       "    }\n",
       "  </style>\n",
       "\n",
       "      <script>\n",
       "        const buttonEl =\n",
       "          document.querySelector('#df-5fec7d4c-1aa8-409f-9a31-978199b552da button.colab-df-convert');\n",
       "        buttonEl.style.display =\n",
       "          google.colab.kernel.accessAllowed ? 'block' : 'none';\n",
       "\n",
       "        async function convertToInteractive(key) {\n",
       "          const element = document.querySelector('#df-5fec7d4c-1aa8-409f-9a31-978199b552da');\n",
       "          const dataTable =\n",
       "            await google.colab.kernel.invokeFunction('convertToInteractive',\n",
       "                                                     [key], {});\n",
       "          if (!dataTable) return;\n",
       "\n",
       "          const docLinkHtml = 'Like what you see? Visit the ' +\n",
       "            '<a target=\"_blank\" href=https://colab.research.google.com/notebooks/data_table.ipynb>data table notebook</a>'\n",
       "            + ' to learn more about interactive tables.';\n",
       "          element.innerHTML = '';\n",
       "          dataTable['output_type'] = 'display_data';\n",
       "          await google.colab.output.renderOutput(dataTable, element);\n",
       "          const docLink = document.createElement('div');\n",
       "          docLink.innerHTML = docLinkHtml;\n",
       "          element.appendChild(docLink);\n",
       "        }\n",
       "      </script>\n",
       "    </div>\n",
       "  </div>\n",
       "  "
      ],
      "text/plain": [
       "            Year,Date & Time            DateTime  Year   January1\n",
       "0  1917,April 30 at 11:30 AM 1917-04-30 11:30:00  1917 1917-01-01\n",
       "1     1918,May 11 at 9:33 AM 1918-05-11 09:33:00  1918 1918-01-01\n",
       "2      1919,May 3 at 2:33 PM 1919-05-03 14:33:00  1919 1919-01-01\n",
       "3    1920,May 11 at 10:46 AM 1920-05-11 10:46:00  1920 1920-01-01\n",
       "4     1921,May 11 at 6:42 AM 1921-05-11 06:42:00  1921 1921-01-01"
      ]
     },
     "execution_count": 2,
     "metadata": {},
     "output_type": "execute_result"
    }
   ],
   "source": [
    "#1 Import the data from Nenana1.csv, and have all data in one column.\n",
    "df = pd.read_csv(\"https://raw.githubusercontent.com/robertasgabrys/Forecasting/main/Nenana1.csv\", sep='.')\n",
    "# Convert to datetime variable\n",
    "df['DateTime'] = pd.to_datetime(df['Year,Date & Time'].apply(lambda x:dt.datetime.strptime(x.replace('at ', ''),'%Y,%B %d %I:%M %p')))\n",
    "# Store year in a separte column\n",
    "df['Year'] = pd.to_datetime(df['DateTime']).dt.year\n",
    "# Create a column for each row: Year+January 1 00:00\n",
    "df['January1'] = df['Year'].apply(lambda x:pd.to_datetime(dt.date(x,1,1)))\n",
    "df.head()"
   ]
  },
  {
   "cell_type": "code",
   "execution_count": null,
   "metadata": {
    "colab": {
     "base_uri": "https://localhost:8080/",
     "height": 206
    },
    "executionInfo": {
     "elapsed": 10,
     "status": "ok",
     "timestamp": 1663285115085,
     "user": {
      "displayName": "Betty Sun",
      "userId": "05203902986704234829"
     },
     "user_tz": 420
    },
    "id": "DA1UYItt8hBS",
    "outputId": "069ad5c9-6f0c-4e3c-d4e7-990035b9bb14"
   },
   "outputs": [
    {
     "data": {
      "text/html": [
       "\n",
       "  <div id=\"df-3c5db3c3-90fe-46c5-8a73-71cb32aec546\">\n",
       "    <div class=\"colab-df-container\">\n",
       "      <div>\n",
       "<style scoped>\n",
       "    .dataframe tbody tr th:only-of-type {\n",
       "        vertical-align: middle;\n",
       "    }\n",
       "\n",
       "    .dataframe tbody tr th {\n",
       "        vertical-align: top;\n",
       "    }\n",
       "\n",
       "    .dataframe thead th {\n",
       "        text-align: right;\n",
       "    }\n",
       "</style>\n",
       "<table border=\"1\" class=\"dataframe\">\n",
       "  <thead>\n",
       "    <tr style=\"text-align: right;\">\n",
       "      <th></th>\n",
       "      <th>Year,Date &amp; Time</th>\n",
       "      <th>DateTime</th>\n",
       "      <th>Year</th>\n",
       "      <th>January1</th>\n",
       "      <th>KPI</th>\n",
       "    </tr>\n",
       "  </thead>\n",
       "  <tbody>\n",
       "    <tr>\n",
       "      <th>0</th>\n",
       "      <td>1917,April 30 at 11:30 AM</td>\n",
       "      <td>1917-04-30 11:30:00</td>\n",
       "      <td>1917</td>\n",
       "      <td>1917-01-01</td>\n",
       "      <td>119.479167</td>\n",
       "    </tr>\n",
       "    <tr>\n",
       "      <th>1</th>\n",
       "      <td>1918,May 11 at 9:33 AM</td>\n",
       "      <td>1918-05-11 09:33:00</td>\n",
       "      <td>1918</td>\n",
       "      <td>1918-01-01</td>\n",
       "      <td>130.397917</td>\n",
       "    </tr>\n",
       "    <tr>\n",
       "      <th>2</th>\n",
       "      <td>1919,May 3 at 2:33 PM</td>\n",
       "      <td>1919-05-03 14:33:00</td>\n",
       "      <td>1919</td>\n",
       "      <td>1919-01-01</td>\n",
       "      <td>122.606250</td>\n",
       "    </tr>\n",
       "    <tr>\n",
       "      <th>3</th>\n",
       "      <td>1920,May 11 at 10:46 AM</td>\n",
       "      <td>1920-05-11 10:46:00</td>\n",
       "      <td>1920</td>\n",
       "      <td>1920-01-01</td>\n",
       "      <td>131.448611</td>\n",
       "    </tr>\n",
       "    <tr>\n",
       "      <th>4</th>\n",
       "      <td>1921,May 11 at 6:42 AM</td>\n",
       "      <td>1921-05-11 06:42:00</td>\n",
       "      <td>1921</td>\n",
       "      <td>1921-01-01</td>\n",
       "      <td>130.279167</td>\n",
       "    </tr>\n",
       "  </tbody>\n",
       "</table>\n",
       "</div>\n",
       "      <button class=\"colab-df-convert\" onclick=\"convertToInteractive('df-3c5db3c3-90fe-46c5-8a73-71cb32aec546')\"\n",
       "              title=\"Convert this dataframe to an interactive table.\"\n",
       "              style=\"display:none;\">\n",
       "        \n",
       "  <svg xmlns=\"http://www.w3.org/2000/svg\" height=\"24px\"viewBox=\"0 0 24 24\"\n",
       "       width=\"24px\">\n",
       "    <path d=\"M0 0h24v24H0V0z\" fill=\"none\"/>\n",
       "    <path d=\"M18.56 5.44l.94 2.06.94-2.06 2.06-.94-2.06-.94-.94-2.06-.94 2.06-2.06.94zm-11 1L8.5 8.5l.94-2.06 2.06-.94-2.06-.94L8.5 2.5l-.94 2.06-2.06.94zm10 10l.94 2.06.94-2.06 2.06-.94-2.06-.94-.94-2.06-.94 2.06-2.06.94z\"/><path d=\"M17.41 7.96l-1.37-1.37c-.4-.4-.92-.59-1.43-.59-.52 0-1.04.2-1.43.59L10.3 9.45l-7.72 7.72c-.78.78-.78 2.05 0 2.83L4 21.41c.39.39.9.59 1.41.59.51 0 1.02-.2 1.41-.59l7.78-7.78 2.81-2.81c.8-.78.8-2.07 0-2.86zM5.41 20L4 18.59l7.72-7.72 1.47 1.35L5.41 20z\"/>\n",
       "  </svg>\n",
       "      </button>\n",
       "      \n",
       "  <style>\n",
       "    .colab-df-container {\n",
       "      display:flex;\n",
       "      flex-wrap:wrap;\n",
       "      gap: 12px;\n",
       "    }\n",
       "\n",
       "    .colab-df-convert {\n",
       "      background-color: #E8F0FE;\n",
       "      border: none;\n",
       "      border-radius: 50%;\n",
       "      cursor: pointer;\n",
       "      display: none;\n",
       "      fill: #1967D2;\n",
       "      height: 32px;\n",
       "      padding: 0 0 0 0;\n",
       "      width: 32px;\n",
       "    }\n",
       "\n",
       "    .colab-df-convert:hover {\n",
       "      background-color: #E2EBFA;\n",
       "      box-shadow: 0px 1px 2px rgba(60, 64, 67, 0.3), 0px 1px 3px 1px rgba(60, 64, 67, 0.15);\n",
       "      fill: #174EA6;\n",
       "    }\n",
       "\n",
       "    [theme=dark] .colab-df-convert {\n",
       "      background-color: #3B4455;\n",
       "      fill: #D2E3FC;\n",
       "    }\n",
       "\n",
       "    [theme=dark] .colab-df-convert:hover {\n",
       "      background-color: #434B5C;\n",
       "      box-shadow: 0px 1px 3px 1px rgba(0, 0, 0, 0.15);\n",
       "      filter: drop-shadow(0px 1px 2px rgba(0, 0, 0, 0.3));\n",
       "      fill: #FFFFFF;\n",
       "    }\n",
       "  </style>\n",
       "\n",
       "      <script>\n",
       "        const buttonEl =\n",
       "          document.querySelector('#df-3c5db3c3-90fe-46c5-8a73-71cb32aec546 button.colab-df-convert');\n",
       "        buttonEl.style.display =\n",
       "          google.colab.kernel.accessAllowed ? 'block' : 'none';\n",
       "\n",
       "        async function convertToInteractive(key) {\n",
       "          const element = document.querySelector('#df-3c5db3c3-90fe-46c5-8a73-71cb32aec546');\n",
       "          const dataTable =\n",
       "            await google.colab.kernel.invokeFunction('convertToInteractive',\n",
       "                                                     [key], {});\n",
       "          if (!dataTable) return;\n",
       "\n",
       "          const docLinkHtml = 'Like what you see? Visit the ' +\n",
       "            '<a target=\"_blank\" href=https://colab.research.google.com/notebooks/data_table.ipynb>data table notebook</a>'\n",
       "            + ' to learn more about interactive tables.';\n",
       "          element.innerHTML = '';\n",
       "          dataTable['output_type'] = 'display_data';\n",
       "          await google.colab.output.renderOutput(dataTable, element);\n",
       "          const docLink = document.createElement('div');\n",
       "          docLink.innerHTML = docLinkHtml;\n",
       "          element.appendChild(docLink);\n",
       "        }\n",
       "      </script>\n",
       "    </div>\n",
       "  </div>\n",
       "  "
      ],
      "text/plain": [
       "            Year,Date & Time            DateTime  Year   January1         KPI\n",
       "0  1917,April 30 at 11:30 AM 1917-04-30 11:30:00  1917 1917-01-01  119.479167\n",
       "1     1918,May 11 at 9:33 AM 1918-05-11 09:33:00  1918 1918-01-01  130.397917\n",
       "2      1919,May 3 at 2:33 PM 1919-05-03 14:33:00  1919 1919-01-01  122.606250\n",
       "3    1920,May 11 at 10:46 AM 1920-05-11 10:46:00  1920 1920-01-01  131.448611\n",
       "4     1921,May 11 at 6:42 AM 1921-05-11 06:42:00  1921 1921-01-01  130.279167"
      ]
     },
     "execution_count": 3,
     "metadata": {},
     "output_type": "execute_result"
    }
   ],
   "source": [
    "#2 Implement KPI:difference between each date and 1/1 of that year\n",
    "# seconds--> convert to days devided by the number of seconds in one day = 60*60*24\n",
    "df['KPI'] = pd.to_timedelta(df['DateTime']-df['January1']).dt.total_seconds()/(60*60*24)\n",
    "df.head()"
   ]
  },
  {
   "cell_type": "code",
   "execution_count": null,
   "metadata": {
    "id": "kYB1z3pW6_-K"
   },
   "outputs": [],
   "source": [
    "# Calculate the mean of KPI before and after 1960\n",
    "df['M0'] = df.loc[0:42,'KPI'].mean()\n",
    "df.loc[43:,'M0'] = df.loc[43:,'KPI'].mean()"
   ]
  },
  {
   "cell_type": "code",
   "execution_count": null,
   "metadata": {
    "colab": {
     "base_uri": "https://localhost:8080/",
     "height": 465
    },
    "executionInfo": {
     "elapsed": 1046,
     "status": "ok",
     "timestamp": 1663285116124,
     "user": {
      "displayName": "Betty Sun",
      "userId": "05203902986704234829"
     },
     "user_tz": 420
    },
    "id": "oYtO_y7dQFCG",
    "outputId": "5cc3accf-456f-4abd-a41b-eba00988ca32"
   },
   "outputs": [
    {
     "data": {
      "image/png": "[encoded data removed]",
      "text/plain": [
       "<Figure size 640x480 with 1 Axes>"
      ]
     },
     "metadata": {},
     "output_type": "display_data"
    },
    {
     "data": {
      "text/plain": [
       "<ggplot: (8747506542585)>"
      ]
     },
     "execution_count": 5,
     "metadata": {},
     "output_type": "execute_result"
    }
   ],
   "source": [
    "#3 Create a graph of your KPI and describe the pattern(s) you see in data. (included mean of KPI)\n",
    "(\n",
    "    ggplot(df, aes('Year', 'KPI')) + geom_point() + geom_line() + theme_bw() +\n",
    " geom_vline(xintercept=1960, color='red') +geom_line(aes('Year', 'M0'), color='blue', size=0.5)\n",
    ")"
   ]
  },
  {
   "cell_type": "markdown",
   "metadata": {
    "id": "KcQspuqw3-xI"
   },
   "source": [
    "Pattern of the graph: After Year 1960, there is a downtrend in KPI (the amount of time of ice-breaking each year)"
   ]
  },
  {
   "cell_type": "code",
   "execution_count": null,
   "metadata": {
    "colab": {
     "base_uri": "https://localhost:8080/",
     "height": 983
    },
    "executionInfo": {
     "elapsed": 952,
     "status": "ok",
     "timestamp": 1663285117073,
     "user": {
      "displayName": "Betty Sun",
      "userId": "05203902986704234829"
     },
     "user_tz": 420
    },
    "id": "pgGkt6_gQ_jh",
    "outputId": "98128d39-4701-4d10-ed26-99a464d5c4c7"
   },
   "outputs": [
    {
     "name": "stderr",
     "output_type": "stream",
     "text": [
      "/usr/local/lib/python3.7/dist-packages/ipykernel_launcher.py:6: SettingWithCopyWarning: \n",
      "A value is trying to be set on a copy of a slice from a DataFrame\n",
      "\n",
      "See the caveats in the documentation: https://pandas.pydata.org/pandas-docs/stable/user_guide/indexing.html#returning-a-view-versus-a-copy\n"
     ]
    },
    {
     "name": "stdout",
     "output_type": "stream",
     "text": [
      "                            OLS Regression Results                            \n",
      "==============================================================================\n",
      "Dep. Variable:                    KPI   R-squared:                       0.026\n",
      "Model:                            OLS   Adj. R-squared:                  0.015\n",
      "Method:                 Least Squares   F-statistic:                     2.294\n",
      "Date:                Thu, 15 Sep 2022   Prob (F-statistic):              0.134\n",
      "Time:                        23:38:35   Log-Likelihood:                -276.67\n",
      "No. Observations:                  87   AIC:                             557.3\n",
      "Df Residuals:                      85   BIC:                             562.3\n",
      "Df Model:                           1                                         \n",
      "Covariance Type:            nonrobust                                         \n",
      "==============================================================================\n",
      "                 coef    std err          t      P>|t|      [0.025      0.975]\n",
      "------------------------------------------------------------------------------\n",
      "Intercept    125.5111      0.898    139.790      0.000     123.726     127.296\n",
      "GW            -1.9122      1.263     -1.515      0.134      -4.422       0.598\n",
      "==============================================================================\n",
      "Omnibus:                        0.058   Durbin-Watson:                   1.849\n",
      "Prob(Omnibus):                  0.971   Jarque-Bera (JB):                0.026\n",
      "Skew:                          -0.030   Prob(JB):                        0.987\n",
      "Kurtosis:                       2.939   Cond. No.                         2.63\n",
      "==============================================================================\n",
      "\n",
      "Notes:\n",
      "[1] Standard Errors assume that the covariance matrix of the errors is correctly specified.\n"
     ]
    },
    {
     "data": {
      "image/png": "[encoded data removed]",
      "text/plain": [
       "<Figure size 640x480 with 1 Axes>"
      ]
     },
     "metadata": {},
     "output_type": "display_data"
    },
    {
     "data": {
      "text/plain": [
       "<ggplot: (8747503478677)>"
      ]
     },
     "execution_count": 6,
     "metadata": {},
     "output_type": "execute_result"
    }
   ],
   "source": [
    "#4 Conduct AB Test for KPI (Before 1960 and after 1960) Abrupt change in KPI\n",
    "ss.ttest_ind(a=df.loc[:43, 'KPI'].values.astype(\"float64\"), b=df.loc[44:, 'KPI'].values.astype(\"float64\"), equal_var=False, alternative = \"greater\")\n",
    "\n",
    "\n",
    "df['GW'] = 0\n",
    "df['GW'][43:] = 1\n",
    "M_abrupt = smf.ols('KPI~GW',data=df).fit()\n",
    "print(M_abrupt.summary())\n",
    "M_abrupt.fittedvalues\n",
    "df['M_abrupt'] = M_abrupt.fittedvalues\n",
    "(\n",
    "    ggplot(df, aes('Year','KPI',color='GW')) + geom_point() + geom_vline(xintercept=1960, color='red') + \n",
    " geom_point(aes('Year','M_abrupt'),color='blue') \n",
    ")"
   ]
  },
  {
   "cell_type": "markdown",
   "metadata": {
    "id": "Z2W6Ju3jQ_ji"
   },
   "source": [
    "A4: Since the p-value (0.067) > alpha (0.05), we conclude that the data doest not provide statistically significant evidence of global warming."
   ]
  },
  {
   "cell_type": "code",
   "execution_count": null,
   "metadata": {
    "colab": {
     "base_uri": "https://localhost:8080/"
    },
    "executionInfo": {
     "elapsed": 10,
     "status": "ok",
     "timestamp": 1663285117073,
     "user": {
      "displayName": "Betty Sun",
      "userId": "05203902986704234829"
     },
     "user_tz": 420
    },
    "id": "bQLuMBhbROgI",
    "outputId": "f070e628-334a-4199-f38d-80c2169481cc"
   },
   "outputs": [
    {
     "data": {
      "text/plain": [
       "[1,\n",
       " 2,\n",
       " 3,\n",
       " 4,\n",
       " 5,\n",
       " 6,\n",
       " 7,\n",
       " 8,\n",
       " 9,\n",
       " 10,\n",
       " 11,\n",
       " 12,\n",
       " 13,\n",
       " 14,\n",
       " 15,\n",
       " 16,\n",
       " 17,\n",
       " 18,\n",
       " 19,\n",
       " 20,\n",
       " 21,\n",
       " 22,\n",
       " 23,\n",
       " 24,\n",
       " 25,\n",
       " 26,\n",
       " 27,\n",
       " 28,\n",
       " 29,\n",
       " 30,\n",
       " 31,\n",
       " 32,\n",
       " 33,\n",
       " 34,\n",
       " 35,\n",
       " 36,\n",
       " 37,\n",
       " 38,\n",
       " 39,\n",
       " 40,\n",
       " 41,\n",
       " 42,\n",
       " 43,\n",
       " 44]"
      ]
     },
     "execution_count": 7,
     "metadata": {},
     "output_type": "execute_result"
    }
   ],
   "source": [
    "# Create a ramp variable to model gradual change in KPI after the BM program was introduced\n",
    "# Ramp = 0,0,0,0,0,0.....1,2,3,4,5,6.....44\n",
    "df['Ramp'] = 0\n",
    "list(range(45))[1:]"
   ]
  },
  {
   "cell_type": "code",
   "execution_count": null,
   "metadata": {
    "id": "cPHYapJlRPxr"
   },
   "outputs": [],
   "source": [
    "df.loc[43:,'Ramp'] = list(range(45))[1:]"
   ]
  },
  {
   "cell_type": "code",
   "execution_count": null,
   "metadata": {
    "colab": {
     "base_uri": "https://localhost:8080/"
    },
    "executionInfo": {
     "elapsed": 7,
     "status": "ok",
     "timestamp": 1663285117073,
     "user": {
      "displayName": "Betty Sun",
      "userId": "05203902986704234829"
     },
     "user_tz": 420
    },
    "id": "nVqMxQimRPxr",
    "outputId": "78fb674a-ceb8-4ba0-a76f-0149f27e519d"
   },
   "outputs": [
    {
     "name": "stdout",
     "output_type": "stream",
     "text": [
      "                            OLS Regression Results                            \n",
      "==============================================================================\n",
      "Dep. Variable:                    KPI   R-squared:                       0.096\n",
      "Model:                            OLS   Adj. R-squared:                  0.086\n",
      "Method:                 Least Squares   F-statistic:                     9.069\n",
      "Date:                Thu, 15 Sep 2022   Prob (F-statistic):            0.00342\n",
      "Time:                        23:38:36   Log-Likelihood:                -273.42\n",
      "No. Observations:                  87   AIC:                             550.8\n",
      "Df Residuals:                      85   BIC:                             555.8\n",
      "Df Model:                           1                                         \n",
      "Covariance Type:            nonrobust                                         \n",
      "==============================================================================\n",
      "                 coef    std err          t      P>|t|      [0.025      0.975]\n",
      "------------------------------------------------------------------------------\n",
      "Intercept    125.9884      0.774    162.675      0.000     124.449     127.528\n",
      "Ramp          -0.1269      0.042     -3.011      0.003      -0.211      -0.043\n",
      "==============================================================================\n",
      "Omnibus:                        0.001   Durbin-Watson:                   1.997\n",
      "Prob(Omnibus):                  0.999   Jarque-Bera (JB):                0.078\n",
      "Skew:                           0.008   Prob(JB):                        0.962\n",
      "Kurtosis:                       2.854   Cond. No.                         23.4\n",
      "==============================================================================\n",
      "\n",
      "Notes:\n",
      "[1] Standard Errors assume that the covariance matrix of the errors is correctly specified.\n"
     ]
    }
   ],
   "source": [
    "#5 Build a regression model to assess the signficance of the graduel effect of the BM intervention\n",
    "# Model KPI = b0 + b1*Ramp\n",
    "M1 = smf.ols('KPI ~ Ramp', data = df).fit()\n",
    "print(M1.summary())"
   ]
  },
  {
   "cell_type": "code",
   "execution_count": null,
   "metadata": {
    "colab": {
     "base_uri": "https://localhost:8080/"
    },
    "executionInfo": {
     "elapsed": 6,
     "status": "ok",
     "timestamp": 1663285117074,
     "user": {
      "displayName": "Betty Sun",
      "userId": "05203902986704234829"
     },
     "user_tz": 420
    },
    "id": "zfxMil70RPxr",
    "outputId": "809eac38-3f37-4f9a-9f51-4f0c07c7a5a1"
   },
   "outputs": [
    {
     "data": {
      "text/plain": [
       "0.001711669761674431"
      ]
     },
     "execution_count": 10,
     "metadata": {},
     "output_type": "execute_result"
    }
   ],
   "source": [
    "M1.pvalues[1]/2"
   ]
  },
  {
   "cell_type": "code",
   "execution_count": null,
   "metadata": {
    "colab": {
     "base_uri": "https://localhost:8080/",
     "height": 389
    },
    "executionInfo": {
     "elapsed": 229,
     "status": "ok",
     "timestamp": 1663285117298,
     "user": {
      "displayName": "Betty Sun",
      "userId": "05203902986704234829"
     },
     "user_tz": 420
    },
    "id": "kvJwn2Jr2lW8",
    "outputId": "bd0d104e-a799-47f3-d6d6-d8ec7f932a31"
   },
   "outputs": [
    {
     "ename": "TypeError",
     "evalue": "ignored",
     "output_type": "error",
     "traceback": [
      "\u001b[0;31m---------------------------------------------------------------------------\u001b[0m",
      "\u001b[0;31mTypeError\u001b[0m                                 Traceback (most recent call last)",
      "\u001b[0;32m/usr/local/lib/python3.7/dist-packages/IPython/core/formatters.py\u001b[0m in \u001b[0;36m__call__\u001b[0;34m(self, obj)\u001b[0m\n\u001b[1;32m    700\u001b[0m                 \u001b[0mtype_pprinters\u001b[0m\u001b[0;34m=\u001b[0m\u001b[0mself\u001b[0m\u001b[0;34m.\u001b[0m\u001b[0mtype_printers\u001b[0m\u001b[0;34m,\u001b[0m\u001b[0;34m\u001b[0m\u001b[0;34m\u001b[0m\u001b[0m\n\u001b[1;32m    701\u001b[0m                 deferred_pprinters=self.deferred_printers)\n\u001b[0;32m--> 702\u001b[0;31m             \u001b[0mprinter\u001b[0m\u001b[0;34m.\u001b[0m\u001b[0mpretty\u001b[0m\u001b[0;34m(\u001b[0m\u001b[0mobj\u001b[0m\u001b[0;34m)\u001b[0m\u001b[0;34m\u001b[0m\u001b[0;34m\u001b[0m\u001b[0m\n\u001b[0m\u001b[1;32m    703\u001b[0m             \u001b[0mprinter\u001b[0m\u001b[0;34m.\u001b[0m\u001b[0mflush\u001b[0m\u001b[0;34m(\u001b[0m\u001b[0;34m)\u001b[0m\u001b[0;34m\u001b[0m\u001b[0;34m\u001b[0m\u001b[0m\n\u001b[1;32m    704\u001b[0m             \u001b[0;32mreturn\u001b[0m \u001b[0mstream\u001b[0m\u001b[0;34m.\u001b[0m\u001b[0mgetvalue\u001b[0m\u001b[0;34m(\u001b[0m\u001b[0;34m)\u001b[0m\u001b[0;34m\u001b[0m\u001b[0;34m\u001b[0m\u001b[0m\n",
      "\u001b[0;32m/usr/local/lib/python3.7/dist-packages/IPython/lib/pretty.py\u001b[0m in \u001b[0;36mpretty\u001b[0;34m(self, obj)\u001b[0m\n\u001b[1;32m    400\u001b[0m                         \u001b[0;32mif\u001b[0m \u001b[0mcls\u001b[0m \u001b[0;32mis\u001b[0m \u001b[0;32mnot\u001b[0m \u001b[0mobject\u001b[0m\u001b[0;31m \u001b[0m\u001b[0;31m\\\u001b[0m\u001b[0;34m\u001b[0m\u001b[0;34m\u001b[0m\u001b[0m\n\u001b[1;32m    401\u001b[0m                                 \u001b[0;32mand\u001b[0m \u001b[0mcallable\u001b[0m\u001b[0;34m(\u001b[0m\u001b[0mcls\u001b[0m\u001b[0;34m.\u001b[0m\u001b[0m__dict__\u001b[0m\u001b[0;34m.\u001b[0m\u001b[0mget\u001b[0m\u001b[0;34m(\u001b[0m\u001b[0;34m'__repr__'\u001b[0m\u001b[0;34m)\u001b[0m\u001b[0;34m)\u001b[0m\u001b[0;34m:\u001b[0m\u001b[0;34m\u001b[0m\u001b[0;34m\u001b[0m\u001b[0m\n\u001b[0;32m--> 402\u001b[0;31m                             \u001b[0;32mreturn\u001b[0m \u001b[0m_repr_pprint\u001b[0m\u001b[0;34m(\u001b[0m\u001b[0mobj\u001b[0m\u001b[0;34m,\u001b[0m \u001b[0mself\u001b[0m\u001b[0;34m,\u001b[0m \u001b[0mcycle\u001b[0m\u001b[0;34m)\u001b[0m\u001b[0;34m\u001b[0m\u001b[0;34m\u001b[0m\u001b[0m\n\u001b[0m\u001b[1;32m    403\u001b[0m \u001b[0;34m\u001b[0m\u001b[0m\n\u001b[1;32m    404\u001b[0m             \u001b[0;32mreturn\u001b[0m \u001b[0m_default_pprint\u001b[0m\u001b[0;34m(\u001b[0m\u001b[0mobj\u001b[0m\u001b[0;34m,\u001b[0m \u001b[0mself\u001b[0m\u001b[0;34m,\u001b[0m \u001b[0mcycle\u001b[0m\u001b[0;34m)\u001b[0m\u001b[0;34m\u001b[0m\u001b[0;34m\u001b[0m\u001b[0m\n",
      "\u001b[0;32m/usr/local/lib/python3.7/dist-packages/IPython/lib/pretty.py\u001b[0m in \u001b[0;36m_repr_pprint\u001b[0;34m(obj, p, cycle)\u001b[0m\n\u001b[1;32m    695\u001b[0m     \u001b[0;34m\"\"\"A pprint that just redirects to the normal repr function.\"\"\"\u001b[0m\u001b[0;34m\u001b[0m\u001b[0;34m\u001b[0m\u001b[0m\n\u001b[1;32m    696\u001b[0m     \u001b[0;31m# Find newlines and replace them with p.break_()\u001b[0m\u001b[0;34m\u001b[0m\u001b[0;34m\u001b[0m\u001b[0;34m\u001b[0m\u001b[0m\n\u001b[0;32m--> 697\u001b[0;31m     \u001b[0moutput\u001b[0m \u001b[0;34m=\u001b[0m \u001b[0mrepr\u001b[0m\u001b[0;34m(\u001b[0m\u001b[0mobj\u001b[0m\u001b[0;34m)\u001b[0m\u001b[0;34m\u001b[0m\u001b[0;34m\u001b[0m\u001b[0m\n\u001b[0m\u001b[1;32m    698\u001b[0m     \u001b[0;32mfor\u001b[0m \u001b[0midx\u001b[0m\u001b[0;34m,\u001b[0m\u001b[0moutput_line\u001b[0m \u001b[0;32min\u001b[0m \u001b[0menumerate\u001b[0m\u001b[0;34m(\u001b[0m\u001b[0moutput\u001b[0m\u001b[0;34m.\u001b[0m\u001b[0msplitlines\u001b[0m\u001b[0;34m(\u001b[0m\u001b[0;34m)\u001b[0m\u001b[0;34m)\u001b[0m\u001b[0;34m:\u001b[0m\u001b[0;34m\u001b[0m\u001b[0;34m\u001b[0m\u001b[0m\n\u001b[1;32m    699\u001b[0m         \u001b[0;32mif\u001b[0m \u001b[0midx\u001b[0m\u001b[0;34m:\u001b[0m\u001b[0;34m\u001b[0m\u001b[0;34m\u001b[0m\u001b[0m\n",
      "\u001b[0;32m/usr/local/lib/python3.7/dist-packages/plotnine/ggplot.py\u001b[0m in \u001b[0;36m__repr__\u001b[0;34m(self)\u001b[0m\n\u001b[1;32m     95\u001b[0m         \u001b[0mPrint\u001b[0m\u001b[0;34m/\u001b[0m\u001b[0mshow\u001b[0m \u001b[0mthe\u001b[0m \u001b[0mplot\u001b[0m\u001b[0;34m\u001b[0m\u001b[0;34m\u001b[0m\u001b[0m\n\u001b[1;32m     96\u001b[0m         \"\"\"\n\u001b[0;32m---> 97\u001b[0;31m         \u001b[0mself\u001b[0m\u001b[0;34m.\u001b[0m\u001b[0m__str__\u001b[0m\u001b[0;34m(\u001b[0m\u001b[0;34m)\u001b[0m\u001b[0;34m\u001b[0m\u001b[0;34m\u001b[0m\u001b[0m\n\u001b[0m\u001b[1;32m     98\u001b[0m         \u001b[0;32mreturn\u001b[0m \u001b[0;34m'<ggplot: (%d)>'\u001b[0m \u001b[0;34m%\u001b[0m \u001b[0mself\u001b[0m\u001b[0;34m.\u001b[0m\u001b[0m__hash__\u001b[0m\u001b[0;34m(\u001b[0m\u001b[0;34m)\u001b[0m\u001b[0;34m\u001b[0m\u001b[0;34m\u001b[0m\u001b[0m\n\u001b[1;32m     99\u001b[0m \u001b[0;34m\u001b[0m\u001b[0m\n",
      "\u001b[0;32m/usr/local/lib/python3.7/dist-packages/plotnine/ggplot.py\u001b[0m in \u001b[0;36m__str__\u001b[0;34m(self)\u001b[0m\n\u001b[1;32m     86\u001b[0m         \u001b[0mPrint\u001b[0m\u001b[0;34m/\u001b[0m\u001b[0mshow\u001b[0m \u001b[0mthe\u001b[0m \u001b[0mplot\u001b[0m\u001b[0;34m\u001b[0m\u001b[0;34m\u001b[0m\u001b[0m\n\u001b[1;32m     87\u001b[0m         \"\"\"\n\u001b[0;32m---> 88\u001b[0;31m         \u001b[0mself\u001b[0m\u001b[0;34m.\u001b[0m\u001b[0mdraw\u001b[0m\u001b[0;34m(\u001b[0m\u001b[0mshow\u001b[0m\u001b[0;34m=\u001b[0m\u001b[0;32mTrue\u001b[0m\u001b[0;34m)\u001b[0m\u001b[0;34m\u001b[0m\u001b[0;34m\u001b[0m\u001b[0m\n\u001b[0m\u001b[1;32m     89\u001b[0m \u001b[0;34m\u001b[0m\u001b[0m\n\u001b[1;32m     90\u001b[0m         \u001b[0;31m# Return and empty string so that print(p) is \"pretty\"\u001b[0m\u001b[0;34m\u001b[0m\u001b[0;34m\u001b[0m\u001b[0;34m\u001b[0m\u001b[0m\n",
      "\u001b[0;32m/usr/local/lib/python3.7/dist-packages/plotnine/ggplot.py\u001b[0m in \u001b[0;36mdraw\u001b[0;34m(self, return_ggplot, show)\u001b[0m\n\u001b[1;32m    203\u001b[0m         \u001b[0mself\u001b[0m \u001b[0;34m=\u001b[0m \u001b[0mdeepcopy\u001b[0m\u001b[0;34m(\u001b[0m\u001b[0mself\u001b[0m\u001b[0;34m)\u001b[0m\u001b[0;34m\u001b[0m\u001b[0;34m\u001b[0m\u001b[0m\n\u001b[1;32m    204\u001b[0m         \u001b[0;32mwith\u001b[0m \u001b[0mplot_context\u001b[0m\u001b[0;34m(\u001b[0m\u001b[0mself\u001b[0m\u001b[0;34m,\u001b[0m \u001b[0mshow\u001b[0m\u001b[0;34m=\u001b[0m\u001b[0mshow\u001b[0m\u001b[0;34m)\u001b[0m\u001b[0;34m:\u001b[0m\u001b[0;34m\u001b[0m\u001b[0;34m\u001b[0m\u001b[0m\n\u001b[0;32m--> 205\u001b[0;31m             \u001b[0mself\u001b[0m\u001b[0;34m.\u001b[0m\u001b[0m_build\u001b[0m\u001b[0;34m(\u001b[0m\u001b[0;34m)\u001b[0m\u001b[0;34m\u001b[0m\u001b[0;34m\u001b[0m\u001b[0m\n\u001b[0m\u001b[1;32m    206\u001b[0m \u001b[0;34m\u001b[0m\u001b[0m\n\u001b[1;32m    207\u001b[0m             \u001b[0;31m# setup\u001b[0m\u001b[0;34m\u001b[0m\u001b[0;34m\u001b[0m\u001b[0;34m\u001b[0m\u001b[0m\n",
      "\u001b[0;32m/usr/local/lib/python3.7/dist-packages/plotnine/ggplot.py\u001b[0m in \u001b[0;36m_build\u001b[0;34m(self)\u001b[0m\n\u001b[1;32m    294\u001b[0m         \u001b[0;31m# Map and train positions so that statistics have access\u001b[0m\u001b[0;34m\u001b[0m\u001b[0;34m\u001b[0m\u001b[0;34m\u001b[0m\u001b[0m\n\u001b[1;32m    295\u001b[0m         \u001b[0;31m# to ranges and all positions are numeric\u001b[0m\u001b[0;34m\u001b[0m\u001b[0;34m\u001b[0m\u001b[0;34m\u001b[0m\u001b[0m\n\u001b[0;32m--> 296\u001b[0;31m         \u001b[0mlayout\u001b[0m\u001b[0;34m.\u001b[0m\u001b[0mtrain_position\u001b[0m\u001b[0;34m(\u001b[0m\u001b[0mlayers\u001b[0m\u001b[0;34m,\u001b[0m \u001b[0mscales\u001b[0m\u001b[0;34m.\u001b[0m\u001b[0mx\u001b[0m\u001b[0;34m,\u001b[0m \u001b[0mscales\u001b[0m\u001b[0;34m.\u001b[0m\u001b[0my\u001b[0m\u001b[0;34m)\u001b[0m\u001b[0;34m\u001b[0m\u001b[0;34m\u001b[0m\u001b[0m\n\u001b[0m\u001b[1;32m    297\u001b[0m         \u001b[0mlayout\u001b[0m\u001b[0;34m.\u001b[0m\u001b[0mmap_position\u001b[0m\u001b[0;34m(\u001b[0m\u001b[0mlayers\u001b[0m\u001b[0;34m)\u001b[0m\u001b[0;34m\u001b[0m\u001b[0;34m\u001b[0m\u001b[0m\n\u001b[1;32m    298\u001b[0m \u001b[0;34m\u001b[0m\u001b[0m\n",
      "\u001b[0;32m/usr/local/lib/python3.7/dist-packages/plotnine/facets/layout.py\u001b[0m in \u001b[0;36mtrain_position\u001b[0;34m(self, layers, x_scale, y_scale)\u001b[0m\n\u001b[1;32m     86\u001b[0m             \u001b[0mself\u001b[0m\u001b[0;34m.\u001b[0m\u001b[0mpanel_scales_y\u001b[0m \u001b[0;34m=\u001b[0m \u001b[0mresult\u001b[0m\u001b[0;34m.\u001b[0m\u001b[0my\u001b[0m\u001b[0;34m\u001b[0m\u001b[0;34m\u001b[0m\u001b[0m\n\u001b[1;32m     87\u001b[0m \u001b[0;34m\u001b[0m\u001b[0m\n\u001b[0;32m---> 88\u001b[0;31m         \u001b[0mself\u001b[0m\u001b[0;34m.\u001b[0m\u001b[0mfacet\u001b[0m\u001b[0;34m.\u001b[0m\u001b[0mtrain_position_scales\u001b[0m\u001b[0;34m(\u001b[0m\u001b[0mself\u001b[0m\u001b[0;34m,\u001b[0m \u001b[0mlayers\u001b[0m\u001b[0;34m)\u001b[0m\u001b[0;34m\u001b[0m\u001b[0;34m\u001b[0m\u001b[0m\n\u001b[0m\u001b[1;32m     89\u001b[0m \u001b[0;34m\u001b[0m\u001b[0m\n\u001b[1;32m     90\u001b[0m     \u001b[0;32mdef\u001b[0m \u001b[0mmap_position\u001b[0m\u001b[0;34m(\u001b[0m\u001b[0mself\u001b[0m\u001b[0;34m,\u001b[0m \u001b[0mlayers\u001b[0m\u001b[0;34m)\u001b[0m\u001b[0;34m:\u001b[0m\u001b[0;34m\u001b[0m\u001b[0;34m\u001b[0m\u001b[0m\n",
      "\u001b[0;32m/usr/local/lib/python3.7/dist-packages/plotnine/facets/facet.py\u001b[0m in \u001b[0;36mtrain_position_scales\u001b[0;34m(self, layout, layers)\u001b[0m\n\u001b[1;32m    234\u001b[0m                 \u001b[0;31m# the scale index for each data point\u001b[0m\u001b[0;34m\u001b[0m\u001b[0;34m\u001b[0m\u001b[0;34m\u001b[0m\u001b[0m\n\u001b[1;32m    235\u001b[0m                 \u001b[0mSCALE_Y\u001b[0m \u001b[0;34m=\u001b[0m \u001b[0m_layout\u001b[0m\u001b[0;34m[\u001b[0m\u001b[0;34m'SCALE_Y'\u001b[0m\u001b[0;34m]\u001b[0m\u001b[0;34m.\u001b[0m\u001b[0miloc\u001b[0m\u001b[0;34m[\u001b[0m\u001b[0mmatch_id\u001b[0m\u001b[0;34m]\u001b[0m\u001b[0;34m.\u001b[0m\u001b[0mtolist\u001b[0m\u001b[0;34m(\u001b[0m\u001b[0;34m)\u001b[0m\u001b[0;34m\u001b[0m\u001b[0;34m\u001b[0m\u001b[0m\n\u001b[0;32m--> 236\u001b[0;31m                 \u001b[0mpanel_scales_y\u001b[0m\u001b[0;34m.\u001b[0m\u001b[0mtrain\u001b[0m\u001b[0;34m(\u001b[0m\u001b[0mdata\u001b[0m\u001b[0;34m,\u001b[0m \u001b[0my_vars\u001b[0m\u001b[0;34m,\u001b[0m \u001b[0mSCALE_Y\u001b[0m\u001b[0;34m)\u001b[0m\u001b[0;34m\u001b[0m\u001b[0;34m\u001b[0m\u001b[0m\n\u001b[0m\u001b[1;32m    237\u001b[0m \u001b[0;34m\u001b[0m\u001b[0m\n\u001b[1;32m    238\u001b[0m         \u001b[0;32mreturn\u001b[0m \u001b[0mself\u001b[0m\u001b[0;34m\u001b[0m\u001b[0;34m\u001b[0m\u001b[0m\n",
      "\u001b[0;32m/usr/local/lib/python3.7/dist-packages/plotnine/scales/scales.py\u001b[0m in \u001b[0;36mtrain\u001b[0;34m(self, data, vars, idx)\u001b[0m\n\u001b[1;32m    120\u001b[0m             \u001b[0;32mfor\u001b[0m \u001b[0mi\u001b[0m\u001b[0;34m,\u001b[0m \u001b[0msc\u001b[0m \u001b[0;32min\u001b[0m \u001b[0menumerate\u001b[0m\u001b[0;34m(\u001b[0m\u001b[0mself\u001b[0m\u001b[0;34m,\u001b[0m \u001b[0mstart\u001b[0m\u001b[0;34m=\u001b[0m\u001b[0;36m1\u001b[0m\u001b[0;34m)\u001b[0m\u001b[0;34m:\u001b[0m\u001b[0;34m\u001b[0m\u001b[0;34m\u001b[0m\u001b[0m\n\u001b[1;32m    121\u001b[0m                 \u001b[0mbool_idx\u001b[0m \u001b[0;34m=\u001b[0m \u001b[0;34m(\u001b[0m\u001b[0mi\u001b[0m \u001b[0;34m==\u001b[0m \u001b[0midx\u001b[0m\u001b[0;34m)\u001b[0m\u001b[0;34m\u001b[0m\u001b[0;34m\u001b[0m\u001b[0m\n\u001b[0;32m--> 122\u001b[0;31m                 \u001b[0msc\u001b[0m\u001b[0;34m.\u001b[0m\u001b[0mtrain\u001b[0m\u001b[0;34m(\u001b[0m\u001b[0mdata\u001b[0m\u001b[0;34m.\u001b[0m\u001b[0mloc\u001b[0m\u001b[0;34m[\u001b[0m\u001b[0mbool_idx\u001b[0m\u001b[0;34m,\u001b[0m \u001b[0mcol\u001b[0m\u001b[0;34m]\u001b[0m\u001b[0;34m)\u001b[0m\u001b[0;34m\u001b[0m\u001b[0;34m\u001b[0m\u001b[0m\n\u001b[0m\u001b[1;32m    123\u001b[0m \u001b[0;34m\u001b[0m\u001b[0m\n\u001b[1;32m    124\u001b[0m     \u001b[0;32mdef\u001b[0m \u001b[0mmap\u001b[0m\u001b[0;34m(\u001b[0m\u001b[0mself\u001b[0m\u001b[0;34m,\u001b[0m \u001b[0mdata\u001b[0m\u001b[0;34m,\u001b[0m \u001b[0mvars\u001b[0m\u001b[0;34m,\u001b[0m \u001b[0midx\u001b[0m\u001b[0;34m)\u001b[0m\u001b[0;34m:\u001b[0m\u001b[0;34m\u001b[0m\u001b[0;34m\u001b[0m\u001b[0m\n",
      "\u001b[0;32m/usr/local/lib/python3.7/dist-packages/plotnine/scales/scale.py\u001b[0m in \u001b[0;36mtrain\u001b[0;34m(self, x)\u001b[0m\n\u001b[1;32m    674\u001b[0m             \u001b[0;32mreturn\u001b[0m\u001b[0;34m\u001b[0m\u001b[0;34m\u001b[0m\u001b[0m\n\u001b[1;32m    675\u001b[0m \u001b[0;34m\u001b[0m\u001b[0m\n\u001b[0;32m--> 676\u001b[0;31m         \u001b[0mself\u001b[0m\u001b[0;34m.\u001b[0m\u001b[0mrange\u001b[0m\u001b[0;34m.\u001b[0m\u001b[0mtrain\u001b[0m\u001b[0;34m(\u001b[0m\u001b[0mx\u001b[0m\u001b[0;34m)\u001b[0m\u001b[0;34m\u001b[0m\u001b[0;34m\u001b[0m\u001b[0m\n\u001b[0m\u001b[1;32m    677\u001b[0m \u001b[0;34m\u001b[0m\u001b[0m\n\u001b[1;32m    678\u001b[0m     \u001b[0;32mdef\u001b[0m \u001b[0mtransform_df\u001b[0m\u001b[0;34m(\u001b[0m\u001b[0mself\u001b[0m\u001b[0;34m,\u001b[0m \u001b[0mdf\u001b[0m\u001b[0;34m)\u001b[0m\u001b[0;34m:\u001b[0m\u001b[0;34m\u001b[0m\u001b[0;34m\u001b[0m\u001b[0m\n",
      "\u001b[0;32m/usr/local/lib/python3.7/dist-packages/plotnine/scales/range.py\u001b[0m in \u001b[0;36mtrain\u001b[0;34m(self, x)\u001b[0m\n\u001b[1;32m     30\u001b[0m         \u001b[0mTrain\u001b[0m \u001b[0mcontinuous\u001b[0m \u001b[0mrange\u001b[0m\u001b[0;34m\u001b[0m\u001b[0;34m\u001b[0m\u001b[0m\n\u001b[1;32m     31\u001b[0m         \"\"\"\n\u001b[0;32m---> 32\u001b[0;31m         \u001b[0mself\u001b[0m\u001b[0;34m.\u001b[0m\u001b[0mrange\u001b[0m \u001b[0;34m=\u001b[0m \u001b[0mscale_continuous\u001b[0m\u001b[0;34m.\u001b[0m\u001b[0mtrain\u001b[0m\u001b[0;34m(\u001b[0m\u001b[0mx\u001b[0m\u001b[0;34m,\u001b[0m \u001b[0mself\u001b[0m\u001b[0;34m.\u001b[0m\u001b[0mrange\u001b[0m\u001b[0;34m)\u001b[0m\u001b[0;34m\u001b[0m\u001b[0;34m\u001b[0m\u001b[0m\n\u001b[0m\u001b[1;32m     33\u001b[0m \u001b[0;34m\u001b[0m\u001b[0m\n\u001b[1;32m     34\u001b[0m \u001b[0;34m\u001b[0m\u001b[0m\n",
      "\u001b[0;32m/usr/local/lib/python3.7/dist-packages/mizani/scale.py\u001b[0m in \u001b[0;36mtrain\u001b[0;34m(cls, new_data, old)\u001b[0m\n\u001b[1;32m     98\u001b[0m         \u001b[0;32mif\u001b[0m \u001b[0mnew_data\u001b[0m\u001b[0;34m.\u001b[0m\u001b[0mdtype\u001b[0m\u001b[0;34m.\u001b[0m\u001b[0mkind\u001b[0m \u001b[0;32mnot\u001b[0m \u001b[0;32min\u001b[0m \u001b[0mCONTINUOUS_KINDS\u001b[0m\u001b[0;34m:\u001b[0m\u001b[0;34m\u001b[0m\u001b[0;34m\u001b[0m\u001b[0m\n\u001b[1;32m     99\u001b[0m             raise TypeError(\n\u001b[0;32m--> 100\u001b[0;31m                 \"Discrete value supplied to continuous scale\")\n\u001b[0m\u001b[1;32m    101\u001b[0m \u001b[0;34m\u001b[0m\u001b[0m\n\u001b[1;32m    102\u001b[0m         \u001b[0;32mif\u001b[0m \u001b[0mold\u001b[0m \u001b[0;32mis\u001b[0m \u001b[0;32mnot\u001b[0m \u001b[0;32mNone\u001b[0m\u001b[0;34m:\u001b[0m\u001b[0;34m\u001b[0m\u001b[0;34m\u001b[0m\u001b[0m\n",
      "\u001b[0;31mTypeError\u001b[0m: Discrete value supplied to continuous scale"
     ]
    }
   ],
   "source": [
    "(\n",
    "    ggplot(df, aes('Year','KPI',color='Ramp')) + geom_point() + geom_vline(xintercept=1960, color='red') + \n",
    " geom_point(aes('Year','M1'),color='blue') \n",
    ")"
   ]
  },
  {
   "cell_type": "markdown",
   "metadata": {
    "id": "bcSIImyTRPxr"
   },
   "source": [
    "A5: Since the p-value(0.002) is less than alpha (0.05), the data provides statistically significant evidence of global warming and the effect is gradual."
   ]
  },
  {
   "cell_type": "markdown",
   "metadata": {
    "id": "BY_UbVmPRPxr"
   },
   "source": [
    "Q6:Which one – abrupt or gradual effect of the intervention in 1960 is more appropriate? Briefly justify your answer.\n",
    "\n",
    "I think gradual effect of the intervention in 1960 is more appropriate because in 1960, Charles Keeling accurately measured atmospheric concentrations and showed that they were definitely increasing, ushered in a new age of expanding climate research, and the atmospheric concentration kept accumulating since the oceans would not absorb all industrial CO2 emissions. Therefore, the effect of excessive CO2 emissions and accumulation should be considered as incremental, and the gradual effect of the intervention of 1960 is more appropriate."
   ]
  },
  {
   "cell_type": "code",
   "execution_count": null,
   "metadata": {
    "colab": {
     "base_uri": "https://localhost:8080/"
    },
    "executionInfo": {
     "elapsed": 6,
     "status": "ok",
     "timestamp": 1663285117299,
     "user": {
      "displayName": "Betty Sun",
      "userId": "05203902986704234829"
     },
     "user_tz": 420
    },
    "id": "l7sgSyY3RPxs",
    "outputId": "4e171323-db59-4f15-9919-7ee3fc03e7df"
   },
   "outputs": [
    {
     "data": {
      "text/plain": [
       "-1.5235680856001192"
      ]
     },
     "execution_count": 12,
     "metadata": {},
     "output_type": "execute_result"
    }
   ],
   "source": [
    "#7 Practical meaning of the evidence of global warming\n",
    "(df.loc[43:,'KPI'].mean() - df.loc[:42,'KPI'].mean()) / df.loc[:42,'KPI'].mean() *100"
   ]
  },
  {
   "cell_type": "markdown",
   "metadata": {
    "id": "TpoeD1dYRPxs"
   },
   "source": [
    "On average KPI (the amount of time in days between the moment ice breaks in Nenana and January 1 each year) decresed by 1.5% after year 1960. It indicates while the global temperature keeps increasing, it takes less time for the ice to break."
   ]
  },
  {
   "cell_type": "markdown",
   "metadata": {
    "id": "EFW_X0We-lFN"
   },
   "source": [
    "Q8: Compare your approach with the approach we used to assess the effectiveness of the batmobile program. Have you observed any differences? Briefly comment."
   ]
  },
  {
   "cell_type": "code",
   "execution_count": 2,
   "metadata": {
    "executionInfo": {
     "elapsed": 419,
     "status": "ok",
     "timestamp": 1663303026920,
     "user": {
      "displayName": "Xinhui Yu",
      "userId": "06403118375310528875"
     },
     "user_tz": 420
    },
    "id": "jhLyMvElR8_b"
   },
   "outputs": [],
   "source": [
    "# Import the data from Nenana2.csv, and have all data in one column.\n",
    "df2 = pd.read_csv(\"https://raw.githubusercontent.com/robertasgabrys/Forecasting/main/Nenana2.csv\", sep='.')\n",
    "df2['DateTime'] = pd.to_datetime(df2['Year,Date & Time'].apply(lambda x:dt.datetime.strptime(x.replace('at ', ''),'%Y,%B %d %I:%M %p')))\n",
    "df2['Year'] = pd.to_datetime(df2['DateTime']).dt.year\n",
    "df2['January1'] = df2['Year'].apply(lambda x:pd.to_datetime(dt.date(x,1,1)))\n",
    "df2['KPI'] = pd.to_timedelta(df2['DateTime']-df2['January1']).dt.total_seconds()/(60*60*24)"
   ]
  },
  {
   "cell_type": "code",
   "execution_count": 3,
   "metadata": {
    "executionInfo": {
     "elapsed": 109,
     "status": "ok",
     "timestamp": 1663303029898,
     "user": {
      "displayName": "Xinhui Yu",
      "userId": "06403118375310528875"
     },
     "user_tz": 420
    },
    "id": "FE_s4qnQAIy0"
   },
   "outputs": [],
   "source": [
    "# Calculate the mean of KPI before and after 1960\n",
    "df2['M0'] = df2.loc[0:42,'KPI'].mean()\n",
    "df2.loc[43:,'M0'] = df2.loc[43:,'KPI'].mean()"
   ]
  },
  {
   "cell_type": "code",
   "execution_count": 4,
   "metadata": {
    "colab": {
     "base_uri": "https://localhost:8080/",
     "height": 464
    },
    "executionInfo": {
     "elapsed": 793,
     "status": "ok",
     "timestamp": 1663303032759,
     "user": {
      "displayName": "Xinhui Yu",
      "userId": "06403118375310528875"
     },
     "user_tz": 420
    },
    "id": "yvCTMHjUSb7N",
    "outputId": "a3ab7a8d-a5ef-42bb-9b9b-b3404a0eef0d"
   },
   "outputs": [
    {
     "data": {
      "image/png": "[encoded data removed]",
      "text/plain": [
       "<Figure size 640x480 with 1 Axes>"
      ]
     },
     "metadata": {},
     "output_type": "display_data"
    },
    {
     "data": {
      "text/plain": [
       "<ggplot: (8784733071373)>"
      ]
     },
     "execution_count": 4,
     "metadata": {},
     "output_type": "execute_result"
    }
   ],
   "source": [
    "# Create a graph of your KPI and describe the pattern(s) you see in data. (included mean of KPI)\n",
    "(\n",
    "    ggplot(df2, aes('Year', 'KPI')) + geom_point() + geom_line() + theme_bw() +\n",
    " geom_vline(xintercept=1960, color='red') +geom_line(aes('Year', 'M0'), color='blue', size=0.5)\n",
    ")"
   ]
  },
  {
   "cell_type": "code",
   "execution_count": 6,
   "metadata": {
    "colab": {
     "base_uri": "https://localhost:8080/"
    },
    "executionInfo": {
     "elapsed": 174,
     "status": "ok",
     "timestamp": 1663303074653,
     "user": {
      "displayName": "Xinhui Yu",
      "userId": "06403118375310528875"
     },
     "user_tz": 420
    },
    "id": "J3LmjTJpSb7O",
    "outputId": "07cfaad5-6c9d-4cfc-9daf-fedad3832150"
   },
   "outputs": [
    {
     "name": "stdout",
     "output_type": "stream",
     "text": [
      "                            OLS Regression Results                            \n",
      "==============================================================================\n",
      "Dep. Variable:                    KPI   R-squared:                       0.063\n",
      "Model:                            OLS   Adj. R-squared:                  0.054\n",
      "Method:                 Least Squares   F-statistic:                     6.966\n",
      "Date:                Fri, 16 Sep 2022   Prob (F-statistic):            0.00960\n",
      "Time:                        04:37:54   Log-Likelihood:                -342.21\n",
      "No. Observations:                 105   AIC:                             688.4\n",
      "Df Residuals:                     103   BIC:                             693.7\n",
      "Df Model:                           1                                         \n",
      "Covariance Type:            nonrobust                                         \n",
      "==============================================================================\n",
      "                 coef    std err          t      P>|t|      [0.025      0.975]\n",
      "------------------------------------------------------------------------------\n",
      "Intercept    125.5111      0.970    129.437      0.000     123.588     127.434\n",
      "GW            -3.3306      1.262     -2.639      0.010      -5.833      -0.828\n",
      "==============================================================================\n",
      "Omnibus:                        1.522   Durbin-Watson:                   1.836\n",
      "Prob(Omnibus):                  0.467   Jarque-Bera (JB):                1.029\n",
      "Skew:                           0.055   Prob(JB):                        0.598\n",
      "Kurtosis:                       3.472   Cond. No.                         2.89\n",
      "==============================================================================\n",
      "\n",
      "Notes:\n",
      "[1] Standard Errors assume that the covariance matrix of the errors is correctly specified.\n"
     ]
    },
    {
     "name": "stderr",
     "output_type": "stream",
     "text": [
      "/usr/local/lib/python3.7/dist-packages/ipykernel_launcher.py:5: SettingWithCopyWarning: \n",
      "A value is trying to be set on a copy of a slice from a DataFrame\n",
      "\n",
      "See the caveats in the documentation: https://pandas.pydata.org/pandas-docs/stable/user_guide/indexing.html#returning-a-view-versus-a-copy\n"
     ]
    },
    {
     "data": {
      "text/plain": [
       "0.004798521984898646"
      ]
     },
     "execution_count": 6,
     "metadata": {},
     "output_type": "execute_result"
    }
   ],
   "source": [
    "#4 Conduct AB Test for KPI (Before 1960 and after 1960)Abrupt change in KPI\n",
    "ss.ttest_ind(a=df2.loc[:43, 'KPI'].values.astype(\"float64\"), b=df2.loc[44:, 'KPI'].values.astype(\"float64\"), equal_var=False, alternative = \"greater\")\n",
    "\n",
    "df2['GW'] = 0\n",
    "df2['GW'][43:] = 1\n",
    "M_abrupt = smf.ols('KPI~GW',data=df2).fit()\n",
    "print(M_abrupt.summary())\n",
    "\n",
    "M_abrupt.fittedvalues\n",
    "df2['M_abrupt'] = M_abrupt.fittedvalues\n",
    "(\n",
    "    ggplot(df2, aes('Year','KPI',color='GW')) + geom_point() + geom_vline(xintercept=1960, color='red') + \n",
    " geom_point(aes('Year','M_abrupt'),color='blue') \n",
    ")\n",
    "M_abrupt.pvalues[1]/2"
   ]
  },
  {
   "cell_type": "markdown",
   "metadata": {
    "id": "L85_ICY5Sb7O"
   },
   "source": [
    "A4: Since the p-value (0.005) < alpha (0.05), we conclude that the data provides statistically significant evidence of global warming."
   ]
  },
  {
   "cell_type": "code",
   "execution_count": 12,
   "metadata": {
    "executionInfo": {
     "elapsed": 124,
     "status": "ok",
     "timestamp": 1663303332339,
     "user": {
      "displayName": "Xinhui Yu",
      "userId": "06403118375310528875"
     },
     "user_tz": 420
    },
    "id": "EjH6UE2TSb7P"
   },
   "outputs": [],
   "source": [
    "# Create a ramp variable to model gradual change in KPI after the BM program was introduced\n",
    "# Ramp = 0,0,0,0,0,0.....1,2,3,4,5,6.....62\n",
    "df2['Ramp'] = 0"
   ]
  },
  {
   "cell_type": "code",
   "execution_count": 8,
   "metadata": {
    "executionInfo": {
     "elapsed": 411,
     "status": "ok",
     "timestamp": 1663303314018,
     "user": {
      "displayName": "Xinhui Yu",
      "userId": "06403118375310528875"
     },
     "user_tz": 420
    },
    "id": "TyrP2ZzxSb7P"
   },
   "outputs": [],
   "source": [
    "df2.loc[43:,'Ramp'] = list(range(63))[1:]"
   ]
  },
  {
   "cell_type": "code",
   "execution_count": 9,
   "metadata": {
    "colab": {
     "base_uri": "https://localhost:8080/"
    },
    "executionInfo": {
     "elapsed": 133,
     "status": "ok",
     "timestamp": 1663303316158,
     "user": {
      "displayName": "Xinhui Yu",
      "userId": "06403118375310528875"
     },
     "user_tz": 420
    },
    "id": "L36IxO-lTSHB",
    "outputId": "3628aa29-9d57-479e-84c7-7da2faf3deb6"
   },
   "outputs": [
    {
     "name": "stdout",
     "output_type": "stream",
     "text": [
      "                            OLS Regression Results                            \n",
      "==============================================================================\n",
      "Dep. Variable:                    KPI   R-squared:                       0.185\n",
      "Model:                            OLS   Adj. R-squared:                  0.177\n",
      "Method:                 Least Squares   F-statistic:                     23.37\n",
      "Date:                Fri, 16 Sep 2022   Prob (F-statistic):           4.69e-06\n",
      "Time:                        04:41:55   Log-Likelihood:                -334.91\n",
      "No. Observations:                 105   AIC:                             673.8\n",
      "Df Residuals:                     103   BIC:                             679.1\n",
      "Df Model:                           1                                         \n",
      "Covariance Type:            nonrobust                                         \n",
      "==============================================================================\n",
      "                 coef    std err          t      P>|t|      [0.025      0.975]\n",
      "------------------------------------------------------------------------------\n",
      "Intercept    126.0571      0.778    162.027      0.000     124.514     127.600\n",
      "Ramp          -0.1351      0.028     -4.834      0.000      -0.191      -0.080\n",
      "==============================================================================\n",
      "Omnibus:                        4.959   Durbin-Watson:                   2.115\n",
      "Prob(Omnibus):                  0.084   Jarque-Bera (JB):                5.201\n",
      "Skew:                           0.283   Prob(JB):                       0.0742\n",
      "Kurtosis:                       3.932   Cond. No.                         37.4\n",
      "==============================================================================\n",
      "\n",
      "Notes:\n",
      "[1] Standard Errors assume that the covariance matrix of the errors is correctly specified.\n"
     ]
    }
   ],
   "source": [
    "# Build a regression model to assess the signficance of the graduel effect of the BM intervention\n",
    "# Model KPI = b0 + b1*Ramp\n",
    "M1 = smf.ols('KPI ~ Ramp', data = df2).fit()\n",
    "print(M1.summary())"
   ]
  },
  {
   "cell_type": "code",
   "execution_count": 10,
   "metadata": {
    "colab": {
     "base_uri": "https://localhost:8080/"
    },
    "executionInfo": {
     "elapsed": 281,
     "status": "ok",
     "timestamp": 1663303321234,
     "user": {
      "displayName": "Xinhui Yu",
      "userId": "06403118375310528875"
     },
     "user_tz": 420
    },
    "id": "y_L1exCjTSHC",
    "outputId": "45dcd940-9b3b-4d4c-d3b3-b09d45ca1bf2"
   },
   "outputs": [
    {
     "data": {
      "text/plain": [
       "2.346865932908275e-06"
      ]
     },
     "execution_count": 10,
     "metadata": {},
     "output_type": "execute_result"
    }
   ],
   "source": [
    "M1.pvalues[1]/2"
   ]
  },
  {
   "cell_type": "markdown",
   "metadata": {
    "id": "kH_eJx1GTSHC"
   },
   "source": [
    "A5: Since the p-value(0.00) is less than alpha (0.05), the data provides statistically significant evidence of global warming and the effect is gradual."
   ]
  },
  {
   "cell_type": "code",
   "execution_count": 11,
   "metadata": {
    "colab": {
     "base_uri": "https://localhost:8080/"
    },
    "executionInfo": {
     "elapsed": 114,
     "status": "ok",
     "timestamp": 1663303323434,
     "user": {
      "displayName": "Xinhui Yu",
      "userId": "06403118375310528875"
     },
     "user_tz": 420
    },
    "id": "9SUNhPjlTSHC",
    "outputId": "f2f78db3-aaf0-4cb0-c3c4-ee669b34bccc"
   },
   "outputs": [
    {
     "data": {
      "text/plain": [
       "-2.6542518486036344"
      ]
     },
     "execution_count": 11,
     "metadata": {},
     "output_type": "execute_result"
    }
   ],
   "source": [
    "# Practical meaning of the evidence of global warming\n",
    "(df2.loc[43:,'KPI'].mean() - df2.loc[:42,'KPI'].mean()) / df2.loc[:28,'KPI'].mean() *100"
   ]
  },
  {
   "cell_type": "markdown",
   "metadata": {
    "id": "n-4v2fr9TSHD"
   },
   "source": [
    "On average KPI (the amount of time in days between the moment ice breaks in Nenana and January 1 each year) decresed by 2.7% after year 1960. It indicates while the global temperature keeps increasing, it takes less time for the ice to break."
   ]
  },
  {
   "cell_type": "markdown",
   "metadata": {
    "id": "f1tcSyk8ByAH"
   },
   "source": [
    "10 What is different from the previous dataset: \n",
    "For Nenana2.txt, the data provide statistically significant evidence of global warming with both abrupt and gradual change in KPI. Whereas for Nenana.txt, there is only statsitically signifcant evidence of global warming with gradual change in KPI."
   ]
  },
  {
   "cell_type": "code",
   "execution_count": null,
   "metadata": {
    "id": "XCNeiMoPkvmY"
   },
   "outputs": [],
   "source": []
  },
  {
   "cell_type": "code",
   "execution_count": null,
   "metadata": {
    "id": "lE8qZ2N5kvPT"
   },
   "outputs": [],
   "source": []
  }
 ],
 "metadata": {
  "colab": {
   "collapsed_sections": [
    "EFW_X0We-lFN",
    "f1tcSyk8ByAH"
   ],
   "provenance": [
    {
     "file_id": "1d7M5-aA690NlAs4NY5OcFomW0c9iMRCi",
     "timestamp": 1663272779045
    }
   ]
  },
  "kernelspec": {
   "display_name": "Python 3 (ipykernel)",
   "language": "python",
   "name": "python3"
  },
  "language_info": {
   "codemirror_mode": {
    "name": "ipython",
    "version": 3
   },
   "file_extension": ".py",
   "mimetype": "text/x-python",
   "name": "python",
   "nbconvert_exporter": "python",
   "pygments_lexer": "ipython3",
   "version": "3.9.12"
  },
  "toc": {
   "base_numbering": 1,
   "nav_menu": {},
   "number_sections": true,
   "sideBar": true,
   "skip_h1_title": false,
   "title_cell": "Table of Contents",
   "title_sidebar": "Contents",
   "toc_cell": false,
   "toc_position": {},
   "toc_section_display": true,
   "toc_window_display": false
  }
 },
 "nbformat": 4,
 "nbformat_minor": 1
}
